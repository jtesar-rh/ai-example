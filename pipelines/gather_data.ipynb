{
 "cells": [
  {
   "cell_type": "code",
   "execution_count": null,
   "id": "deaae720-c242-47f8-9c02-c1b96a944905",
   "metadata": {
    "tags": []
   },
   "outputs": [],
   "source": [
    "%pip install boto3"
   ]
  },
  {
   "cell_type": "code",
   "execution_count": null,
   "id": "020447a1-cefd-44b1-8783-9b4d47848dc9",
   "metadata": {
    "tags": []
   },
   "outputs": [],
   "source": [
    "import io\n",
    "import os\n",
    "import boto3\n"
   ]
  },
  {
   "cell_type": "code",
   "execution_count": null,
   "id": "044c7e6e-8001-46b9-943a-db537eab9911",
   "metadata": {
    "tags": []
   },
   "outputs": [],
   "source": [
    "key_id = os.getenv(\"AWS_ACCESS_KEY_ID\")\n",
    "secret_key = os.getenv(\"AWS_SECRET_ACCESS_KEY\")\n",
    "region = os.getenv(\"AWS_DEFAULT_REGION\")\n",
    "endpoint = os.getenv(\"AWS_S3_ENDPOINT\")\n",
    "bucket = 'datasets'"
   ]
  },
  {
   "cell_type": "code",
   "execution_count": null,
   "id": "e5628645-4c27-4b2b-8876-d45e22d3c9a6",
   "metadata": {
    "tags": []
   },
   "outputs": [],
   "source": [
    "s3 = boto3.client(\n",
    "    \"s3\",\n",
    "    region,\n",
    "    aws_access_key_id=key_id,\n",
    "    aws_secret_access_key=secret_key,\n",
    "    endpoint_url=endpoint,\n",
    "    use_ssl=False\n",
    ")\n",
    "\n",
    "# retrieve the metadata of contents within the bucket\n",
    "objects = s3.list_objects_v2(Bucket=bucket)\n",
    "\n",
    "# output the name of each object within the bucket\n",
    "for obj in objects[\"Contents\"]:\n",
    "    print(obj[\"Key\"])\n",
    "    s3.download_file(bucket, obj[\"Key\"], obj[\"Key\"], )"
   ]
  },
  {
   "cell_type": "code",
   "execution_count": null,
   "id": "dd0b39ed-5af0-4ea5-8526-e9fdde19bb8c",
   "metadata": {},
   "outputs": [],
   "source": []
  }
 ],
 "metadata": {
  "kernelspec": {
   "display_name": "Python 3.9",
   "language": "python",
   "name": "python3"
  },
  "language_info": {
   "codemirror_mode": {
    "name": "ipython",
    "version": 3
   },
   "file_extension": ".py",
   "mimetype": "text/x-python",
   "name": "python",
   "nbconvert_exporter": "python",
   "pygments_lexer": "ipython3",
   "version": "3.9.18"
  }
 },
 "nbformat": 4,
 "nbformat_minor": 5
}

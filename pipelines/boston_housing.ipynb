{
 "cells": [
  {
   "cell_type": "code",
   "execution_count": 1,
   "id": "230e960f-e1d3-45e8-b46d-4a51d6f8fd91",
   "metadata": {
    "tags": []
   },
   "outputs": [
    {
     "name": "stderr",
     "output_type": "stream",
     "text": [
      "2024-09-13 07:42:00.646255: I tensorflow/core/util/port.cc:110] oneDNN custom operations are on. You may see slightly different numerical results due to floating-point round-off errors from different computation orders. To turn them off, set the environment variable `TF_ENABLE_ONEDNN_OPTS=0`.\n",
      "2024-09-13 07:42:00.724805: I tensorflow/core/platform/cpu_feature_guard.cc:182] This TensorFlow binary is optimized to use available CPU instructions in performance-critical operations.\n",
      "To enable the following instructions: AVX2 AVX512F AVX512_VNNI FMA, in other operations, rebuild TensorFlow with the appropriate compiler flags.\n",
      "2024-09-13 07:42:01.852771: W tensorflow/compiler/tf2tensorrt/utils/py_utils.cc:38] TF-TRT Warning: Could not find TensorRT\n"
     ]
    }
   ],
   "source": [
    "import pandas as pd\n",
    "import numpy as np\n",
    "import matplotlib.pyplot as plot\n",
    "import joblib\n",
    "\n",
    "import tensorflow as tf"
   ]
  },
  {
   "cell_type": "code",
   "execution_count": 2,
   "id": "7f5e6f93-70c2-45cf-9246-170d2999d463",
   "metadata": {
    "tags": []
   },
   "outputs": [],
   "source": [
    "hd = pd.read_csv('boston_housing.csv')"
   ]
  },
  {
   "cell_type": "code",
   "execution_count": 3,
   "id": "a931f892-5c63-4aee-bced-a39605e0ac92",
   "metadata": {
    "tags": []
   },
   "outputs": [
    {
     "data": {
      "text/plain": [
       "<AxesSubplot: xlabel='RM', ylabel='PRICE'>"
      ]
     },
     "execution_count": 3,
     "metadata": {},
     "output_type": "execute_result"
    },
    {
     "data": {
      "image/png": "[encoded data removed]",
      "text/plain": [
       "<Figure size 640x480 with 1 Axes>"
      ]
     },
     "metadata": {},
     "output_type": "display_data"
    }
   ],
   "source": [
    "hd.plot.scatter(x='RM',y='PRICE')"
   ]
  },
  {
   "cell_type": "code",
   "execution_count": null,
   "id": "9259568a-000a-4491-8bfa-4852b0b0c7be",
   "metadata": {
    "tags": []
   },
   "outputs": [],
   "source": [
    "nhdi = hd[(hd['PRICE'] > 45) | (hd['RM'] < 4)].index"
   ]
  },
  {
   "cell_type": "code",
   "execution_count": null,
   "id": "71d808d8-a00c-4949-91a3-b062e0ebdd2e",
   "metadata": {
    "tags": []
   },
   "outputs": [],
   "source": [
    "nhd = hd.drop(nhdi)"
   ]
  },
  {
   "cell_type": "code",
   "execution_count": null,
   "id": "8cebe232-caf9-493c-bc33-8d2733f2a9a4",
   "metadata": {
    "tags": []
   },
   "outputs": [],
   "source": [
    "nhd.plot.scatter(x='RM',y='PRICE')"
   ]
  },
  {
   "cell_type": "code",
   "execution_count": null,
   "id": "19bbc654-aa78-4944-aceb-5052adefad2d",
   "metadata": {
    "tags": []
   },
   "outputs": [],
   "source": [
    "x_train,y_train = nhd.RM.values[:-100], nhd.PRICE.values[:-100]"
   ]
  },
  {
   "cell_type": "code",
   "execution_count": null,
   "id": "1b2ba923-687f-4c64-a363-e8ea7e413b9a",
   "metadata": {
    "tags": []
   },
   "outputs": [],
   "source": [
    "x_test,y_test = nhd.RM.values[-100:], nhd.PRICE.values[-100:]"
   ]
  },
  {
   "cell_type": "code",
   "execution_count": null,
   "id": "8de18f2b-2a1f-48f5-a888-080b5cf74420",
   "metadata": {
    "tags": []
   },
   "outputs": [],
   "source": [
    "model = tf.keras.Sequential()\n",
    "model.add(tf.keras.layers.Input(shape=(1,)))\n",
    "model.add(tf.keras.layers.Normalization())\n",
    "model.add(tf.keras.layers.Dense(1))\n"
   ]
  },
  {
   "cell_type": "code",
   "execution_count": null,
   "id": "ba6de8aa-23d2-48ba-a265-95a675eda71a",
   "metadata": {},
   "outputs": [],
   "source": [
    "model.compile(optimizer='rmsprop',loss=tf.keras.losses.MeanSquaredError(),metrics=[tf.keras.metrics.RootMeanSquaredError()])"
   ]
  },
  {
   "cell_type": "code",
   "execution_count": null,
   "id": "84fa1c35-28a5-4b06-b9cc-f60d7dc48a21",
   "metadata": {
    "tags": []
   },
   "outputs": [],
   "source": [
    "history = model.fit(x_train,y_train,validation_split=0.1,epochs=300,verbose=2)"
   ]
  },
  {
   "cell_type": "code",
   "execution_count": null,
   "id": "de582f6e-a03d-45f6-ac9e-caedc652badb",
   "metadata": {
    "tags": []
   },
   "outputs": [],
   "source": [
    "plot.plot(history.history['root_mean_squared_error'],color='g')\n",
    "plot.plot(history.history['val_root_mean_squared_error'],color='r')\n"
   ]
  },
  {
   "cell_type": "code",
   "execution_count": null,
   "id": "021705cc-ebae-469b-93e1-0bc18e0f2c22",
   "metadata": {
    "tags": []
   },
   "outputs": [],
   "source": [
    "x = tf.linspace(4,12,10)"
   ]
  },
  {
   "cell_type": "code",
   "execution_count": null,
   "id": "3b97ce5d-b5a4-4e4d-8fad-3c76290dc105",
   "metadata": {
    "tags": []
   },
   "outputs": [],
   "source": [
    "y = model.predict(x)"
   ]
  },
  {
   "cell_type": "code",
   "execution_count": null,
   "id": "52d6336d-07d9-434f-9409-6ca9c19ba7b0",
   "metadata": {
    "tags": []
   },
   "outputs": [],
   "source": [
    "plot.scatter(x_train,y_train,alpha=0.5)\n",
    "plot.plot(x,y,color='red')"
   ]
  }
 ],
 "metadata": {
  "kernelspec": {
   "display_name": "Python 3.9",
   "language": "python",
   "name": "python3"
  },
  "language_info": {
   "codemirror_mode": {
    "name": "ipython",
    "version": 3
   },
   "file_extension": ".py",
   "mimetype": "text/x-python",
   "name": "python",
   "nbconvert_exporter": "python",
   "pygments_lexer": "ipython3",
   "version": "3.9.18"
  }
 },
 "nbformat": 4,
 "nbformat_minor": 5
}

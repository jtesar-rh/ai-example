{
 "cells": [
  {
   "cell_type": "code",
   "execution_count": null,
   "id": "11e6866a-2fbf-4cb0-bd46-bbc10b66cb4e",
   "metadata": {
    "tags": []
   },
   "outputs": [],
   "source": [
    "!pip install onnxruntime"
   ]
  },
  {
   "cell_type": "code",
   "execution_count": null,
   "id": "1f0e080f-4f7f-480d-9c57-23eef15f69eb",
   "metadata": {
    "tags": []
   },
   "outputs": [],
   "source": [
    "import tensorflow as tf\n",
    "import onnxruntime\n",
    "import numpy as np\n",
    "\n"
   ]
  },
  {
   "cell_type": "code",
   "execution_count": null,
   "id": "2c91014e-53ad-4810-9d92-9571861db178",
   "metadata": {
    "tags": []
   },
   "outputs": [],
   "source": [
    "mnist = tf.keras.datasets.mnist\n",
    "\n",
    "(x_train, y_train), (x_test, y_test) = mnist.load_data()\n",
    "x_train, x_test = x_train / 255.0, x_test / 255.0"
   ]
  },
  {
   "cell_type": "code",
   "execution_count": null,
   "id": "d5a40be3-90b2-4287-b307-0f092f4c7c6c",
   "metadata": {
    "tags": []
   },
   "outputs": [],
   "source": [
    "session = onnxruntime.InferenceSession(\"model.onnx\")\n",
    "x_test2 = np.asarray(x_test, np.float32)\n",
    " \n"
   ]
  },
  {
   "cell_type": "code",
   "execution_count": null,
   "id": "3c7cadd4-bf5f-4c3d-ac57-6621351ab311",
   "metadata": {
    "tags": []
   },
   "outputs": [],
   "source": [
    "inputs = {\"digit\":x_test2[4:5]}\n",
    "results = session.run([],inputs)"
   ]
  },
  {
   "cell_type": "code",
   "execution_count": null,
   "id": "8e169e51-b3e7-4d2b-9fd5-c056a69f3e1d",
   "metadata": {
    "tags": []
   },
   "outputs": [],
   "source": [
    "results"
   ]
  },
  {
   "cell_type": "code",
   "execution_count": null,
   "id": "437988ab-4f35-4128-9504-0d7e4823d55c",
   "metadata": {},
   "outputs": [],
   "source": []
  }
 ],
 "metadata": {
  "kernelspec": {
   "display_name": "Python 3.9",
   "language": "python",
   "name": "python3"
  },
  "language_info": {
   "codemirror_mode": {
    "name": "ipython",
    "version": 3
   },
   "file_extension": ".py",
   "mimetype": "text/x-python",
   "name": "python",
   "nbconvert_exporter": "python",
   "pygments_lexer": "ipython3",
   "version": "3.9.18"
  }
 },
 "nbformat": 4,
 "nbformat_minor": 5
}

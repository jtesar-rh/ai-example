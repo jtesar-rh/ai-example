{
 "cells": [
  {
   "cell_type": "code",
   "execution_count": null,
   "id": "df133d08-bc45-467e-848f-5882a7ad47a7",
   "metadata": {
    "tags": []
   },
   "outputs": [],
   "source": [
    "import numpy as np\n",
    "from tensorflow.keras.models import Sequential\n",
    "from tensorflow.keras.layers import Dense, Input, Activation\n",
    "from tensorflow.keras.datasets import boston_housing\n",
    "from tensorflow.keras import layers\n",
    " \n",
    "import tensorflow as tf\n",
    "import matplotlib.pyplot as plt\n",
    "SEED_VALUE = 42\n",
    " \n",
    "# Fix seed to make training deterministic.\n",
    "np.random.seed(SEED_VALUE)\n",
    "tf.random.set_seed(SEED_VALUE)\n",
    "\n",
    "rng = np.random.default_rng(12345)\n",
    "step=10\n",
    "low = -200\n",
    "high = 200\n",
    "size = int((high-low)/step)\n",
    "off = rng.integers(low=-100, high=100, size=size)\n",
    "\n",
    "X_train = np.arange(low,high,step)\n",
    "y_train = X_train * 2 + 5\n",
    "y_train_lin = y_train\n",
    "\n",
    "y_train = y_train + off\n",
    "  \n",
    "    \n",
    "def plot_data(x1,y1,x2=[],y2=[],x3=[],y3=[]):\n",
    "  plt.figure(figsize=(20,5))\n",
    "  plt.scatter(x1,y1,color='green')\n",
    "  if (len(x2) != 0):\n",
    "      plt.scatter(x2,y2,color='blue')\n",
    "  if (len(x3) != 0):\n",
    "      plt.scatter(x3,y3,color='red')\n",
    "        \n",
    "  plt.xlabel('X')\n",
    "  plt.ylabel('Y')\n",
    "  plt.grid(True)\n",
    "\n",
    "#import random\n",
    "#rogue = np.arange(0,0,size)\n",
    "#for i in range(1,10):\n",
    "#    elem = random.randint(0,size-1)\n",
    "#    off2 = random.randint(-31500,-31400)\n",
    "#    y_train[elem] = y_train[elem]+off2\n",
    "\n",
    "#x = lambda x : x if x > -200 else 0\n",
    "#normalize = np.vectorize(x)\n",
    "#y_train=normalize(y_train)\n",
    "\n",
    "plot_data(X_train,y_train,X_train,y_train_lin)\n"
   ]
  },
  {
   "cell_type": "code",
   "execution_count": null,
   "id": "a29aa925-e3bc-4f0f-812b-5ab767129ed5",
   "metadata": {
    "tags": []
   },
   "outputs": [],
   "source": [
    "model = Sequential()\n",
    " \n",
    "# Define the model consisting of a single neuron.\n",
    "#model.add(Dense(units=1, input_shape=(1,)))\n",
    "model.add(tf.keras.layers.Dense(1,input_shape=(1,)))\n",
    "model.summary()\n"
   ]
  },
  {
   "cell_type": "code",
   "execution_count": null,
   "id": "16fae968-117e-4942-a035-84e73cf60c89",
   "metadata": {
    "tags": []
   },
   "outputs": [],
   "source": [
    "model.compile(optimizer=tf.keras.optimizers.Adam(learning_rate=0.01),\n",
    "              loss='mse',metrics=['MeanAbsoluteError'])"
   ]
  },
  {
   "cell_type": "code",
   "execution_count": null,
   "id": "720439ad-3883-4632-b99b-e4b1fd1e4409",
   "metadata": {
    "tags": []
   },
   "outputs": [],
   "source": [
    "history = model.fit(X_train, \n",
    "                    y_train, \n",
    "                    batch_size=16, \n",
    "                    epochs=200, \n",
    "                    validation_split=0.3,\n",
    "                    verbose=0)\n",
    "\n",
    "print(\"Done\")\n",
    "\n",
    "def plot_loss(history,data_name='mean_absolute_error'):\n",
    "    plt.figure(figsize=(20,5))\n",
    "    plt.plot(history.history[data_name], 'g',label=data_name)\n",
    "    plt.xlim([0, 200])\n",
    "    plt.ylim([np.min(history.history[data_name]), np.max(history.history[data_name])])\n",
    "    plt.xlabel('Epoch')\n",
    "    plt.ylabel(data_name)\n",
    "    plt.legend()\n",
    "    plt.grid(True)\n",
    "\n",
    "plot_loss(history,'loss')   \n",
    "plot_loss(history)   "
   ]
  },
  {
   "cell_type": "code",
   "execution_count": null,
   "id": "cd1d8005-73d2-4f7b-9ec7-70faef020ca9",
   "metadata": {
    "tags": []
   },
   "outputs": [],
   "source": [
    "model.evaluate(X_train,y_train_lin)"
   ]
  },
  {
   "cell_type": "code",
   "execution_count": null,
   "id": "0afe8090-695c-4d06-91a7-0c01cecbd0f1",
   "metadata": {
    "tags": []
   },
   "outputs": [],
   "source": [
    "x=[]\n",
    "y=[]\n",
    "x = np.arange(-200,200, step=7)\n",
    "y = model.predict(x)"
   ]
  },
  {
   "cell_type": "code",
   "execution_count": null,
   "id": "4970c3ef-574f-48c2-8450-3e39137908af",
   "metadata": {
    "tags": []
   },
   "outputs": [],
   "source": [
    "plot_data(X_train,y_train,x,y,X_train,y_train_lin)"
   ]
  },
  {
   "cell_type": "code",
   "execution_count": null,
   "id": "834b185c-aabe-4113-a460-ede6fa269f33",
   "metadata": {},
   "outputs": [],
   "source": []
  }
 ],
 "metadata": {
  "kernelspec": {
   "display_name": "Python 3.9",
   "language": "python",
   "name": "python3"
  },
  "language_info": {
   "codemirror_mode": {
    "name": "ipython",
    "version": 3
   },
   "file_extension": ".py",
   "mimetype": "text/x-python",
   "name": "python",
   "nbconvert_exporter": "python",
   "pygments_lexer": "ipython3",
   "version": "3.9.18"
  }
 },
 "nbformat": 4,
 "nbformat_minor": 5
}

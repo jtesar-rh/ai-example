{
 "cells": [
  {
   "cell_type": "code",
   "execution_count": null,
   "id": "16c0cd71-586b-42d8-b6f5-dd8acd03fcb3",
   "metadata": {
    "tags": []
   },
   "outputs": [],
   "source": [
    "import numpy as np\n",
    "\n",
    " \n",
    "import tensorflow as tf\n",
    "import matplotlib.pyplot as plt\n",
    "SEED_VALUE = 180\n",
    " \n",
    "# Fix seed to make training deterministic.\n",
    "np.random.seed(SEED_VALUE)\n",
    "tf.random.set_seed(SEED_VALUE)\n",
    "\n",
    "rng = np.random.default_rng(12345)"
   ]
  },
  {
   "cell_type": "code",
   "execution_count": null,
   "id": "056940a5-6450-4885-a338-f9bfd76edaec",
   "metadata": {
    "tags": []
   },
   "outputs": [],
   "source": [
    "\n",
    "step=10\n",
    "low = -200\n",
    "high = 200\n",
    "size = int((high-low)/step)\n",
    "off = rng.integers(low=-200, high=100, size=size)\n",
    "off"
   ]
  },
  {
   "cell_type": "code",
   "execution_count": null,
   "id": "7a635fde-5954-4f27-8004-8b8440317272",
   "metadata": {
    "tags": []
   },
   "outputs": [],
   "source": [
    "X_train = np.arange(low,high,step)\n",
    "y_train = X_train * 2 + 5\n",
    "y_train_lin = y_train\n",
    "print(y_train)\n",
    "y_train = y_train + off\n",
    "y_train"
   ]
  },
  {
   "cell_type": "code",
   "execution_count": null,
   "id": "df133d08-bc45-467e-848f-5882a7ad47a7",
   "metadata": {
    "tags": []
   },
   "outputs": [],
   "source": [
    "\n",
    "  \n",
    "    \n",
    "def plot_data(x1,y1,x2=[],y2=[],x3=[],y3=[]):\n",
    "  plt.figure(figsize=(20,5))\n",
    "  plt.scatter(x1,y1,color='green')\n",
    "  if (len(x2) != 0):\n",
    "      plt.scatter(x2,y2,color='blue')\n",
    "  if (len(x3) != 0):\n",
    "      plt.scatter(x3,y3,color='red')\n",
    "        \n",
    "  plt.xlabel('X')\n",
    "  plt.ylabel('Y')\n",
    "  plt.legend()\n",
    "  plt.grid(True)\n",
    "\n",
    "#import random\n",
    "#rogue = np.arange(0,0,size)\n",
    "#for i in range(1,10):\n",
    "#    elem = random.randint(0,size-1)\n",
    "#    off2 = random.randint(-31500,-31400)\n",
    "#    y_train[elem] = y_train[elem]+off2\n",
    "\n",
    "#x = lambda x : x if x > -200 else 0\n",
    "#normalize = np.vectorize(x)\n",
    "#y_train=normalize(y_train)\n",
    "\n",
    "plot_data(X_train,y_train,X_train,y_train_lin)\n"
   ]
  },
  {
   "cell_type": "code",
   "execution_count": null,
   "id": "a29aa925-e3bc-4f0f-812b-5ab767129ed5",
   "metadata": {
    "tags": []
   },
   "outputs": [],
   "source": [
    "model=None\n",
    "model = tf.keras.Sequential()\n",
    " \n",
    "# Define the model consisting of a single neuron.\n",
    "#model.add(Dense(units=1, input_shape=(1,)))\n",
    "model.add(tf.keras.layers.Dense(1,input_shape=(1,)))\n",
    "model.add(tf.keras.layers.Dense(100,activation='relu'))\n",
    "model.add(tf.keras.layers.Dense(100,activation='relu'))\n",
    "model.add(tf.keras.layers.Dense(1))\n",
    "\n",
    "model.summary()\n",
    "model.compile(optimizer=tf.keras.optimizers.Ftrl(),\n",
    "              loss='mse',metrics=['MeanAbsoluteError'])\n"
   ]
  },
  {
   "cell_type": "code",
   "execution_count": null,
   "id": "720439ad-3883-4632-b99b-e4b1fd1e4409",
   "metadata": {
    "tags": []
   },
   "outputs": [],
   "source": [
    "history = model.fit(X_train, \n",
    "                    y_train, \n",
    "                    batch_size=1, \n",
    "                    epochs=100, \n",
    "                    validation_split=0.3,\n",
    "                    verbose=2)\n",
    "\n",
    "print(\"Done\")"
   ]
  },
  {
   "cell_type": "code",
   "execution_count": null,
   "id": "c7188801-c240-4d4a-a84d-f19fa75def46",
   "metadata": {
    "tags": []
   },
   "outputs": [],
   "source": [
    "def plot_history(history,data_names):\n",
    "    n = 1\n",
    "    plt.figure(n,figsize=(20,5))\n",
    "    y_min = 1000000\n",
    "    y_max = -100000\n",
    "    for i in data_names:\n",
    "        plt.plot(history.history[i],label=i)\n",
    "        \n",
    "        if (y_min > np.min(history.history[i])):\n",
    "            y_min = np.min(history.history[i])\n",
    "\n",
    "        if (y_max < np.max(history.history[i])):\n",
    "            y_max = np.max(history.history[i])\n",
    "            \n",
    "        \n",
    "        plt.xlim([0, len(history.history[i])])\n",
    "        plt.ylim(y_min, y_max)\n",
    "        plt.xlabel('Epoch')\n",
    "        #plt.ylabel(i)\n",
    "        n += 1\n",
    "\n",
    "    plt.legend()\n",
    "    plt.grid(True)\n",
    "    plt.show()\n",
    "\n",
    "plot_history(history,['loss','val_loss'])\n",
    "#plot_history(history,['accuracy','val_accuracy'])"
   ]
  },
  {
   "cell_type": "code",
   "execution_count": null,
   "id": "cd1d8005-73d2-4f7b-9ec7-70faef020ca9",
   "metadata": {
    "tags": []
   },
   "outputs": [],
   "source": [
    "model.evaluate(X_train,y_train_lin)"
   ]
  },
  {
   "cell_type": "code",
   "execution_count": null,
   "id": "0afe8090-695c-4d06-91a7-0c01cecbd0f1",
   "metadata": {
    "tags": []
   },
   "outputs": [],
   "source": [
    "x=[]\n",
    "y=[]\n",
    "x = np.arange(-200,400, step=7)\n",
    "y = model.predict(x)\n",
    "plot_data(X_train,y_train,x,y,X_train,y_train_lin)"
   ]
  }
 ],
 "metadata": {
  "kernelspec": {
   "display_name": "Python 3.9",
   "language": "python",
   "name": "python3"
  },
  "language_info": {
   "codemirror_mode": {
    "name": "ipython",
    "version": 3
   },
   "file_extension": ".py",
   "mimetype": "text/x-python",
   "name": "python",
   "nbconvert_exporter": "python",
   "pygments_lexer": "ipython3",
   "version": "3.9.18"
  }
 },
 "nbformat": 4,
 "nbformat_minor": 5
}

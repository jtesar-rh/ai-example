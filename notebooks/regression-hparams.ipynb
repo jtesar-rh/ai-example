{
 "cells": [
  {
   "cell_type": "code",
   "execution_count": null,
   "id": "df133d08-bc45-467e-848f-5882a7ad47a7",
   "metadata": {
    "tags": []
   },
   "outputs": [],
   "source": [
    "import numpy as np\n",
    "from tensorflow.keras.models import Sequential\n",
    "from tensorflow.keras.layers import Dense, Input, Activation\n",
    "from tensorflow.keras.datasets import boston_housing\n",
    "from tensorflow.keras import layers\n",
    " \n",
    "import tensorflow as tf\n",
    "import matplotlib.pyplot as plt\n",
    "SEED_VALUE = 42\n",
    " \n",
    "# Fix seed to make training deterministic.\n",
    "np.random.seed(SEED_VALUE)\n",
    "tf.random.set_seed(SEED_VALUE)\n",
    "(X_train, y_train), (X_test, y_test) = boston_housing.load_data()\n",
    "\n",
    "boston_features = {\n",
    "    'Average Number of Rooms':5,\n",
    "}\n",
    " \n",
    "X_train_1d = X_train[:, boston_features['Average Number of Rooms']]\n",
    "X_test_1d = X_test[:, boston_features['Average Number of Rooms']]\n",
    "X_train_2d = X_train[:, 5:7]\n",
    "X_test_2d = X_test[:, 5:7]\n",
    "plt.figure(figsize=(15, 5))\n",
    " \n",
    "plt.xlabel('Average Number of Rooms')\n",
    "plt.ylabel('Median Price [$K]')\n",
    "plt.grid(\"on\")\n",
    "plt.scatter(X_train[:,5:6].flatten(), y_train, color='green',alpha=0.5);"
   ]
  },
  {
   "cell_type": "code",
   "execution_count": null,
   "id": "a29aa925-e3bc-4f0f-812b-5ab767129ed5",
   "metadata": {
    "tags": []
   },
   "outputs": [],
   "source": [
    "model = Sequential()\n",
    " \n",
    "# Define the model consisting of a single neuron.\n",
    "#model.add(Dense(units=1, input_shape=(1,)))\n",
    "model.add(tf.keras.layers.Dense(14,input_shape=(1,)))\n",
    "#model.add(tf.keras.layers.Flatten())\n",
    "model.add(tf.keras.layers.Dense(1))\n",
    " \n",
    "    \n",
    "# Display a summary of the model architecture.\n",
    "model.summary()\n"
   ]
  },
  {
   "cell_type": "code",
   "execution_count": null,
   "id": "16fae968-117e-4942-a035-84e73cf60c89",
   "metadata": {
    "tags": []
   },
   "outputs": [],
   "source": [
    "model.compile(optimizer=tf.keras.optimizers.RMSprop(learning_rate=.1),\n",
    "              loss='mae')"
   ]
  },
  {
   "cell_type": "code",
   "execution_count": null,
   "id": "720439ad-3883-4632-b99b-e4b1fd1e4409",
   "metadata": {
    "tags": []
   },
   "outputs": [],
   "source": [
    "history = model.fit(X_train[:,5:6], \n",
    "                    y_train, \n",
    "                    batch_size=16, \n",
    "                    epochs=100, \n",
    "                    validation_split=0.3,\n",
    "                    verbose=0)"
   ]
  },
  {
   "cell_type": "code",
   "execution_count": null,
   "id": "3c07c1bc-7c13-4864-8b44-35bd54b96895",
   "metadata": {
    "tags": []
   },
   "outputs": [],
   "source": [
    "model.evaluate(X_train[:,5:6],y_train)\n",
    "model.evaluate(X_test[:,5:6],y_test)"
   ]
  },
  {
   "cell_type": "code",
   "execution_count": null,
   "id": "ce041211-cc0e-4c78-a5dc-bc47be65ed0d",
   "metadata": {
    "tags": []
   },
   "outputs": [],
   "source": [
    "def plot_loss(history):\n",
    "    plt.figure(figsize=(20,5))\n",
    "    plt.plot(history.history['loss'], 'g', label='Training Loss')\n",
    "    plt.plot(history.history['val_loss'], 'b', label='Validation Loss')\n",
    "    plt.xlim([0, 100])\n",
    "    plt.ylim([0, np.max(history.history['loss'])])\n",
    "    plt.xlabel('Epoch')\n",
    "    plt.ylabel('Loss')\n",
    "    plt.legend()\n",
    "    plt.grid(True)\n",
    "\n",
    "plot_loss(history)   "
   ]
  },
  {
   "cell_type": "code",
   "execution_count": null,
   "id": "abafa03c-4daf-4c3e-aea9-7dc35d257f40",
   "metadata": {
    "tags": []
   },
   "outputs": [],
   "source": [
    "# Predict the median price of a home with [3, 4, 5, 6, 7] rooms.\n",
    "x = [3, 4, 5, 6, 7]\n",
    "y_pred = model.predict(x)\n",
    "for idx in range(len(x)):\n",
    "    print(\"Predicted price of a home with {} rooms: ${}K\".format(x[idx], int(y_pred[idx]*10)/10))\n",
    "\n"
   ]
  },
  {
   "cell_type": "code",
   "execution_count": null,
   "id": "d200af41-ad7e-4e3a-a216-424aa25c2f8a",
   "metadata": {
    "tags": []
   },
   "outputs": [],
   "source": [
    "x = tf.linspace(3, 9, 10)\n",
    " \n",
    "# Use the model to predict the dependent variable.\n",
    "y = model.predict(x)\n",
    "x"
   ]
  },
  {
   "cell_type": "code",
   "execution_count": null,
   "id": "096cc2a6-699f-4cab-81c0-59dca1b63cc2",
   "metadata": {
    "tags": []
   },
   "outputs": [],
   "source": [
    "def plot_data(x_data, y_data, x, y, title=None):\n",
    "     \n",
    "    plt.figure(figsize=(15,5))\n",
    "    plt.scatter(x_data, y_data, label='Ground Truth', color='green', alpha=0.5)\n",
    "    plt.plot(x, y, color='k', label='Model Predictions')\n",
    "    plt.xlim([3,9])\n",
    "    plt.ylim([0,60])\n",
    "    plt.xlabel('Average Number of Rooms')\n",
    "    plt.ylabel('Price [$K]')\n",
    "    plt.title(title)\n",
    "    plt.grid(True)\n",
    "    plt.legend()"
   ]
  },
  {
   "cell_type": "code",
   "execution_count": null,
   "id": "9757d194-2e1b-4663-9f1a-b1b6ad6a6b0f",
   "metadata": {
    "tags": []
   },
   "outputs": [],
   "source": [
    "plot_data(X_train_1d, y_train, x, y, title='Training Dataset')"
   ]
  },
  {
   "cell_type": "code",
   "execution_count": null,
   "id": "ebea53ad-a5f0-4f9a-91df-5039e73ac7a4",
   "metadata": {
    "tags": []
   },
   "outputs": [],
   "source": [
    "plot_data(X_test_1d, y_test, x, y, title='Test Dataset')"
   ]
  },
  {
   "cell_type": "code",
   "execution_count": null,
   "id": "d85a5ae6-4b80-445d-bcbf-81fc8818c7fc",
   "metadata": {},
   "outputs": [],
   "source": []
  }
 ],
 "metadata": {
  "kernelspec": {
   "display_name": "Python 3.9",
   "language": "python",
   "name": "python3"
  },
  "language_info": {
   "codemirror_mode": {
    "name": "ipython",
    "version": 3
   },
   "file_extension": ".py",
   "mimetype": "text/x-python",
   "name": "python",
   "nbconvert_exporter": "python",
   "pygments_lexer": "ipython3",
   "version": "3.9.18"
  }
 },
 "nbformat": 4,
 "nbformat_minor": 5
}
